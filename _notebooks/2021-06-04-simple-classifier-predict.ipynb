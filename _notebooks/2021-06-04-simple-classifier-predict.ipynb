{
 "cells": [
  {
   "cell_type": "code",
   "execution_count": null,
   "metadata": {},
   "outputs": [],
   "source": [
    "# \"Predict Simple spam classifier\"\n",
    "> \"Predict Simple spam classifier using allennlp\"\n",
    "\n",
    "- toc: true\n",
    "- badges: False\n",
    "- comments: true\n",
    "- categories: [allennlp]\n",
    "- hide: false"
   ]
  },
  {
   "cell_type": "markdown",
   "metadata": {},
   "source": [
    "This is the predict part of the simple spam classifier from an earlier post"
   ]
  },
  {
   "cell_type": "code",
   "execution_count": 9,
   "metadata": {},
   "outputs": [
    {
     "name": "stdout",
     "output_type": "stream",
     "text": [
      "Requirement already satisfied: allennlp in /Users/mbondarenko22/opt/anaconda3/lib/python3.7/site-packages (2.4.0)\n",
      "Requirement already satisfied: numpy in /Users/mbondarenko22/opt/anaconda3/lib/python3.7/site-packages (from allennlp) (1.18.1)\n",
      "Requirement already satisfied: pytest in /Users/mbondarenko22/opt/anaconda3/lib/python3.7/site-packages (from allennlp) (5.3.5)\n",
      "Requirement already satisfied: huggingface-hub>=0.0.8 in /Users/mbondarenko22/opt/anaconda3/lib/python3.7/site-packages (from allennlp) (0.0.9)\n",
      "Requirement already satisfied: h5py in /Users/mbondarenko22/opt/anaconda3/lib/python3.7/site-packages (from allennlp) (2.10.0)\n",
      "Requirement already satisfied: transformers<4.6,>=4.1 in /Users/mbondarenko22/opt/anaconda3/lib/python3.7/site-packages (from allennlp) (4.5.1)\n",
      "Requirement already satisfied: wandb<0.11.0,>=0.10.0 in /Users/mbondarenko22/opt/anaconda3/lib/python3.7/site-packages (from allennlp) (0.10.31)\n",
      "Requirement already satisfied: tqdm>=4.19 in /Users/mbondarenko22/opt/anaconda3/lib/python3.7/site-packages (from allennlp) (4.42.1)\n",
      "Requirement already satisfied: scipy in /Users/mbondarenko22/opt/anaconda3/lib/python3.7/site-packages (from allennlp) (1.4.1)\n",
      "Requirement already satisfied: overrides==3.1.0 in /Users/mbondarenko22/opt/anaconda3/lib/python3.7/site-packages (from allennlp) (3.1.0)\n",
      "Requirement already satisfied: torchvision<0.10.0,>=0.8.1 in /Users/mbondarenko22/opt/anaconda3/lib/python3.7/site-packages (from allennlp) (0.9.1)\n",
      "Requirement already satisfied: nltk in /Users/mbondarenko22/opt/anaconda3/lib/python3.7/site-packages (from allennlp) (3.4.5)\n",
      "Requirement already satisfied: spacy<3.1,>=2.1.0 in /Users/mbondarenko22/opt/anaconda3/lib/python3.7/site-packages (from allennlp) (2.1.9)\n",
      "Requirement already satisfied: torch<1.9.0,>=1.6.0 in /Users/mbondarenko22/opt/anaconda3/lib/python3.7/site-packages (from allennlp) (1.8.1)\n",
      "Requirement already satisfied: more-itertools in /Users/mbondarenko22/opt/anaconda3/lib/python3.7/site-packages (from allennlp) (8.2.0)\n",
      "Requirement already satisfied: filelock<3.1,>=3.0 in /Users/mbondarenko22/opt/anaconda3/lib/python3.7/site-packages (from allennlp) (3.0.12)\n",
      "Requirement already satisfied: jsonnet>=0.10.0; sys_platform != \"win32\" in /Users/mbondarenko22/opt/anaconda3/lib/python3.7/site-packages (from allennlp) (0.17.0)\n",
      "Requirement already satisfied: boto3<2.0,>=1.14 in /Users/mbondarenko22/opt/anaconda3/lib/python3.7/site-packages (from allennlp) (1.16.25)\n",
      "Requirement already satisfied: tensorboardX>=1.2 in /Users/mbondarenko22/opt/anaconda3/lib/python3.7/site-packages (from allennlp) (2.1)\n",
      "Requirement already satisfied: requests>=2.18 in /Users/mbondarenko22/opt/anaconda3/lib/python3.7/site-packages (from allennlp) (2.22.0)\n",
      "Requirement already satisfied: scikit-learn in /Users/mbondarenko22/opt/anaconda3/lib/python3.7/site-packages (from allennlp) (0.20.0)\n",
      "Requirement already satisfied: sentencepiece in /Users/mbondarenko22/opt/anaconda3/lib/python3.7/site-packages (from allennlp) (0.1.91)\n",
      "Requirement already satisfied: lmdb in /Users/mbondarenko22/opt/anaconda3/lib/python3.7/site-packages (from allennlp) (1.2.1)\n",
      "Requirement already satisfied: py>=1.5.0 in /Users/mbondarenko22/opt/anaconda3/lib/python3.7/site-packages (from pytest->allennlp) (1.8.1)\n",
      "Requirement already satisfied: packaging in /Users/mbondarenko22/opt/anaconda3/lib/python3.7/site-packages (from pytest->allennlp) (20.1)\n",
      "Requirement already satisfied: attrs>=17.4.0 in /Users/mbondarenko22/opt/anaconda3/lib/python3.7/site-packages (from pytest->allennlp) (19.3.0)\n",
      "Requirement already satisfied: pluggy<1.0,>=0.12 in /Users/mbondarenko22/opt/anaconda3/lib/python3.7/site-packages (from pytest->allennlp) (0.13.1)\n",
      "Requirement already satisfied: wcwidth in /Users/mbondarenko22/opt/anaconda3/lib/python3.7/site-packages (from pytest->allennlp) (0.1.8)\n",
      "Requirement already satisfied: importlib-metadata>=0.12 in /Users/mbondarenko22/opt/anaconda3/lib/python3.7/site-packages (from pytest->allennlp) (1.5.0)\n",
      "Requirement already satisfied: typing-extensions in /Users/mbondarenko22/opt/anaconda3/lib/python3.7/site-packages (from huggingface-hub>=0.0.8->allennlp) (3.10.0.0)\n",
      "Requirement already satisfied: six in /Users/mbondarenko22/opt/anaconda3/lib/python3.7/site-packages (from h5py->allennlp) (1.14.0)\n",
      "Requirement already satisfied: regex!=2019.12.17 in /Users/mbondarenko22/opt/anaconda3/lib/python3.7/site-packages (from transformers<4.6,>=4.1->allennlp) (2020.11.13)\n",
      "Requirement already satisfied: tokenizers<0.11,>=0.10.1 in /Users/mbondarenko22/opt/anaconda3/lib/python3.7/site-packages (from transformers<4.6,>=4.1->allennlp) (0.10.3)\n",
      "Requirement already satisfied: sacremoses in /Users/mbondarenko22/opt/anaconda3/lib/python3.7/site-packages (from transformers<4.6,>=4.1->allennlp) (0.0.43)\n",
      "Requirement already satisfied: promise<3,>=2.0 in /Users/mbondarenko22/opt/anaconda3/lib/python3.7/site-packages (from wandb<0.11.0,>=0.10.0->allennlp) (2.3)\n",
      "Requirement already satisfied: shortuuid>=0.5.0 in /Users/mbondarenko22/opt/anaconda3/lib/python3.7/site-packages (from wandb<0.11.0,>=0.10.0->allennlp) (1.0.1)\n",
      "Requirement already satisfied: psutil>=5.0.0 in /Users/mbondarenko22/opt/anaconda3/lib/python3.7/site-packages (from wandb<0.11.0,>=0.10.0->allennlp) (5.6.7)\n",
      "Requirement already satisfied: python-dateutil>=2.6.1 in /Users/mbondarenko22/opt/anaconda3/lib/python3.7/site-packages (from wandb<0.11.0,>=0.10.0->allennlp) (2.8.1)\n",
      "Requirement already satisfied: sentry-sdk>=0.4.0 in /Users/mbondarenko22/opt/anaconda3/lib/python3.7/site-packages (from wandb<0.11.0,>=0.10.0->allennlp) (1.1.0)\n",
      "Requirement already satisfied: docker-pycreds>=0.4.0 in /Users/mbondarenko22/opt/anaconda3/lib/python3.7/site-packages (from wandb<0.11.0,>=0.10.0->allennlp) (0.4.0)\n",
      "Requirement already satisfied: PyYAML in /Users/mbondarenko22/opt/anaconda3/lib/python3.7/site-packages (from wandb<0.11.0,>=0.10.0->allennlp) (5.3)\n",
      "Requirement already satisfied: pathtools in /Users/mbondarenko22/opt/anaconda3/lib/python3.7/site-packages (from wandb<0.11.0,>=0.10.0->allennlp) (0.1.2)\n",
      "Requirement already satisfied: GitPython>=1.0.0 in /Users/mbondarenko22/opt/anaconda3/lib/python3.7/site-packages (from wandb<0.11.0,>=0.10.0->allennlp) (3.1.17)\n",
      "Requirement already satisfied: protobuf>=3.12.0 in /Users/mbondarenko22/opt/anaconda3/lib/python3.7/site-packages (from wandb<0.11.0,>=0.10.0->allennlp) (3.17.1)\n",
      "Requirement already satisfied: subprocess32>=3.5.3 in /Users/mbondarenko22/opt/anaconda3/lib/python3.7/site-packages (from wandb<0.11.0,>=0.10.0->allennlp) (3.5.4)\n",
      "Requirement already satisfied: configparser>=3.8.1 in /Users/mbondarenko22/opt/anaconda3/lib/python3.7/site-packages (from wandb<0.11.0,>=0.10.0->allennlp) (5.0.2)\n",
      "Requirement already satisfied: Click>=7.0 in /Users/mbondarenko22/opt/anaconda3/lib/python3.7/site-packages (from wandb<0.11.0,>=0.10.0->allennlp) (8.0.1)\n",
      "Requirement already satisfied: pillow>=4.1.1 in /Users/mbondarenko22/opt/anaconda3/lib/python3.7/site-packages (from torchvision<0.10.0,>=0.8.1->allennlp) (7.0.0)\n",
      "Requirement already satisfied: murmurhash<1.1.0,>=0.28.0 in /Users/mbondarenko22/opt/anaconda3/lib/python3.7/site-packages (from spacy<3.1,>=2.1.0->allennlp) (1.0.4)\n",
      "Requirement already satisfied: wasabi<1.1.0,>=0.2.0 in /Users/mbondarenko22/opt/anaconda3/lib/python3.7/site-packages (from spacy<3.1,>=2.1.0->allennlp) (0.8.0)\n",
      "Requirement already satisfied: thinc<7.1.0,>=7.0.8 in /Users/mbondarenko22/opt/anaconda3/lib/python3.7/site-packages (from spacy<3.1,>=2.1.0->allennlp) (7.0.8)\n",
      "Requirement already satisfied: preshed<2.1.0,>=2.0.1 in /Users/mbondarenko22/opt/anaconda3/lib/python3.7/site-packages (from spacy<3.1,>=2.1.0->allennlp) (2.0.1)\n",
      "Requirement already satisfied: plac<1.0.0,>=0.9.6 in /Users/mbondarenko22/opt/anaconda3/lib/python3.7/site-packages (from spacy<3.1,>=2.1.0->allennlp) (0.9.6)\n",
      "Requirement already satisfied: blis<0.3.0,>=0.2.2 in /Users/mbondarenko22/opt/anaconda3/lib/python3.7/site-packages (from spacy<3.1,>=2.1.0->allennlp) (0.2.4)\n",
      "Requirement already satisfied: srsly<1.1.0,>=0.0.6 in /Users/mbondarenko22/opt/anaconda3/lib/python3.7/site-packages (from spacy<3.1,>=2.1.0->allennlp) (1.0.4)\n",
      "Requirement already satisfied: cymem<2.1.0,>=2.0.2 in /Users/mbondarenko22/opt/anaconda3/lib/python3.7/site-packages (from spacy<3.1,>=2.1.0->allennlp) (2.0.4)\n",
      "Requirement already satisfied: botocore<1.20.0,>=1.19.25 in /Users/mbondarenko22/opt/anaconda3/lib/python3.7/site-packages (from boto3<2.0,>=1.14->allennlp) (1.19.31)\n",
      "Requirement already satisfied: jmespath<1.0.0,>=0.7.1 in /Users/mbondarenko22/opt/anaconda3/lib/python3.7/site-packages (from boto3<2.0,>=1.14->allennlp) (0.10.0)\n",
      "Requirement already satisfied: s3transfer<0.4.0,>=0.3.0 in /Users/mbondarenko22/opt/anaconda3/lib/python3.7/site-packages (from boto3<2.0,>=1.14->allennlp) (0.3.3)\n",
      "Requirement already satisfied: urllib3!=1.25.0,!=1.25.1,<1.26,>=1.21.1 in /Users/mbondarenko22/opt/anaconda3/lib/python3.7/site-packages (from requests>=2.18->allennlp) (1.25.11)\n"
     ]
    },
    {
     "name": "stdout",
     "output_type": "stream",
     "text": [
      "Requirement already satisfied: certifi>=2017.4.17 in /Users/mbondarenko22/opt/anaconda3/lib/python3.7/site-packages (from requests>=2.18->allennlp) (2019.11.28)\n",
      "Requirement already satisfied: idna<2.9,>=2.5 in /Users/mbondarenko22/opt/anaconda3/lib/python3.7/site-packages (from requests>=2.18->allennlp) (2.8)\n",
      "Requirement already satisfied: chardet<3.1.0,>=3.0.2 in /Users/mbondarenko22/opt/anaconda3/lib/python3.7/site-packages (from requests>=2.18->allennlp) (3.0.4)\n",
      "Requirement already satisfied: pyparsing>=2.0.2 in /Users/mbondarenko22/opt/anaconda3/lib/python3.7/site-packages (from packaging->pytest->allennlp) (2.4.6)\n",
      "Requirement already satisfied: zipp>=0.5 in /Users/mbondarenko22/opt/anaconda3/lib/python3.7/site-packages (from importlib-metadata>=0.12->pytest->allennlp) (2.2.0)\n",
      "Requirement already satisfied: joblib in /Users/mbondarenko22/opt/anaconda3/lib/python3.7/site-packages (from sacremoses->transformers<4.6,>=4.1->allennlp) (0.14.1)\n",
      "Requirement already satisfied: gitdb<5,>=4.0.1 in /Users/mbondarenko22/opt/anaconda3/lib/python3.7/site-packages (from GitPython>=1.0.0->wandb<0.11.0,>=0.10.0->allennlp) (4.0.7)\n",
      "Requirement already satisfied: smmap<5,>=3.0.1 in /Users/mbondarenko22/opt/anaconda3/lib/python3.7/site-packages (from gitdb<5,>=4.0.1->GitPython>=1.0.0->wandb<0.11.0,>=0.10.0->allennlp) (4.0.0)\n",
      "Note: you may need to restart the kernel to use updated packages.\n"
     ]
    }
   ],
   "source": [
    "#hide\n",
    "%pip install allennlp"
   ]
  },
  {
   "cell_type": "code",
   "execution_count": 22,
   "metadata": {},
   "outputs": [],
   "source": [
    "#hide\n",
    "# Define DatasetReader\n",
    "# DatasetReader\n",
    "from allennlp.data import DatasetReader, Instance\n",
    "from allennlp.data.fields import LabelField, TextField\n",
    "\n",
    "\n",
    "class ClassificationTsvReader(DatasetReader):\n",
    "    def __init__(\n",
    "        self,\n",
    "        tokenizer=None,\n",
    "        token_indexers=None,\n",
    "        **kwargs\n",
    "    ):\n",
    "        super().__init__(**kwargs)\n",
    "        self.tokenizer = tokenizer\n",
    "        self.token_indexers = token_indexers\n",
    "\n",
    "    def _read(self, file_path):\n",
    "        with open(file_path, \"r\") as lines:\n",
    "            for line in lines:\n",
    "                label, text = line.strip().split(\"\\t\")\n",
    "\n",
    "                tokens = self.tokenizer.tokenize(text)\n",
    "\n",
    "                text_field = TextField(tokens, self.token_indexers)\n",
    "                label_field = LabelField(label)\n",
    "\n",
    "                fields = {\"tokens\": text_field, \"label\": label_field}\n",
    "                yield Instance(fields)\n",
    "\n",
    "    def text_to_instance(self, text: str, label: str = None) -> Instance:\n",
    "        tokens = self.tokenizer.tokenize(text)\n",
    "        text_field = TextField(tokens, self.token_indexers)\n",
    "        fields = {'tokens': text_field}\n",
    "        if label:\n",
    "            fields['label'] = LabelField(label)\n",
    "        return Instance(fields)\n",
    "\n",
    "# Tokenizer\n",
    "from allennlp.data.tokenizers import WhitespaceTokenizer\n",
    "tokenizer = WhitespaceTokenizer()\n",
    "\n",
    "# Indexer\n",
    "from allennlp.data.token_indexers import SingleIdTokenIndexer\n",
    "token_indexers = {\"tokens\": SingleIdTokenIndexer()}\n",
    "\n",
    "# Create DatasetReader\n",
    "dataset_reader = ClassificationTsvReader(\n",
    "    tokenizer=tokenizer,\n",
    "    token_indexers=token_indexers)"
   ]
  },
  {
   "cell_type": "code",
   "execution_count": 23,
   "metadata": {},
   "outputs": [],
   "source": [
    "# Load model vocab\n",
    "\n",
    "model_dir = 'simple-classifier-spam/'\n",
    "\n",
    "from allennlp.data.vocabulary import Vocabulary\n",
    "vocab = Vocabulary.from_files(model_dir + \"vocabulary\")\n",
    "vocab_size = vocab.get_vocab_size(\"tokens\")"
   ]
  },
  {
   "cell_type": "code",
   "execution_count": 24,
   "metadata": {},
   "outputs": [],
   "source": [
    "# Define model class\n",
    "\n",
    "# Token embedder\n",
    "from allennlp.modules.token_embedders import Embedding\n",
    "token_embedder=Embedding(embedding_dim=10, num_embeddings=vocab_size)\n",
    "\n",
    "# Text-field embedder\n",
    "from allennlp.modules.text_field_embedders import BasicTextFieldEmbedder\n",
    "embedder = BasicTextFieldEmbedder({\"tokens\": token_embedder})\n",
    "\n",
    "# Encoder\n",
    "from allennlp.modules.seq2vec_encoders import BagOfEmbeddingsEncoder\n",
    "encoder = BagOfEmbeddingsEncoder(embedding_dim=10)\n",
    "\n",
    "# Model\n",
    "from allennlp.models import BasicClassifier\n",
    "model=BasicClassifier(\n",
    "    vocab=vocab,\n",
    "    text_field_embedder=embedder,\n",
    "    seq2vec_encoder=encoder,\n",
    "    namespace=\"tokens\",\n",
    "    label_namespace=\"labels\"\n",
    "    )"
   ]
  },
  {
   "cell_type": "code",
   "execution_count": 25,
   "metadata": {},
   "outputs": [],
   "source": [
    "# Load model weights\n",
    "import torch\n",
    "with open(model_dir + \"model.th\", 'rb') as f:\n",
    "    model.load_state_dict(torch.load(f))"
   ]
  },
  {
   "cell_type": "code",
   "execution_count": 26,
   "metadata": {},
   "outputs": [],
   "source": [
    "# Compile predictor\n",
    "\n",
    "# Predictor\n",
    "from allennlp.predictors.text_classifier import TextClassifierPredictor\n",
    "predictor = TextClassifierPredictor(model=model, dataset_reader=dataset_reader)"
   ]
  },
  {
   "cell_type": "code",
   "execution_count": 47,
   "metadata": {},
   "outputs": [],
   "source": [
    "# Prepare user interface\n",
    "import ipywidgets as widgets\n",
    "\n",
    "input = widgets.Textarea(\n",
    "    placeholder='Type something',\n",
    "    disabled=False\n",
    ");\n",
    "def f(text):\n",
    "    return predictor.predict(text)['label']\n",
    "\n",
    "from ipywidgets import interact"
   ]
  },
  {
   "cell_type": "code",
   "execution_count": 48,
   "metadata": {},
   "outputs": [
    {
     "data": {
      "application/vnd.jupyter.widget-view+json": {
       "model_id": "31caaa5848ea4058a51bc7a4b7f12192",
       "version_major": 2,
       "version_minor": 0
      },
      "text/plain": [
       "interactive(children=(Textarea(value='', description='text', placeholder='Type something'), Output()), _dom_cl…"
      ]
     },
     "metadata": {},
     "output_type": "display_data"
    }
   ],
   "source": [
    "interact(f, text=input);"
   ]
  },
  {
   "cell_type": "code",
   "execution_count": 50,
   "metadata": {},
   "outputs": [],
   "source": [
    "input.close()"
   ]
  }
 ],
 "metadata": {
  "kernelspec": {
   "display_name": "Python 3",
   "language": "python",
   "name": "python3"
  },
  "language_info": {
   "codemirror_mode": {
    "name": "ipython",
    "version": 3
   },
   "file_extension": ".py",
   "mimetype": "text/x-python",
   "name": "python",
   "nbconvert_exporter": "python",
   "pygments_lexer": "ipython3",
   "version": "3.7.6"
  }
 },
 "nbformat": 4,
 "nbformat_minor": 4
}
