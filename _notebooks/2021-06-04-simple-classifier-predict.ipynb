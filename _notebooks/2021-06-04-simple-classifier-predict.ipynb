{
 "cells": [
  {
   "cell_type": "markdown",
   "metadata": {},
   "source": [
    "# \"Spam classifier!\"\n",
    "> \"Predict Simple spam classifier using allennlp\"\n",
    "\n",
    "- toc: true\n",
    "- badges: False\n",
    "- comments: true\n",
    "- categories: [allennlp]\n",
    "- hide: false"
   ]
  },
  {
   "cell_type": "markdown",
   "metadata": {},
   "source": [
    "This is a spam classifier based on the simple spam classifier from an earlier post"
   ]
  },
  {
   "cell_type": "code",
   "execution_count": 6,
   "metadata": {},
   "outputs": [],
   "source": [
    "#hide\n",
    "# Define DatasetReader\n",
    "# DatasetReader\n",
    "from allennlp.data import DatasetReader, Instance\n",
    "from allennlp.data.fields import LabelField, TextField\n",
    "\n",
    "\n",
    "class ClassificationTsvReader(DatasetReader):\n",
    "    def __init__(\n",
    "        self,\n",
    "        tokenizer=None,\n",
    "        token_indexers=None,\n",
    "        **kwargs\n",
    "    ):\n",
    "        super().__init__(**kwargs)\n",
    "        self.tokenizer = tokenizer\n",
    "        self.token_indexers = token_indexers\n",
    "\n",
    "    def _read(self, file_path):\n",
    "        with open(file_path, \"r\") as lines:\n",
    "            for line in lines:\n",
    "                label, text = line.strip().split(\"\\t\")\n",
    "\n",
    "                tokens = self.tokenizer.tokenize(text)\n",
    "\n",
    "                text_field = TextField(tokens, self.token_indexers)\n",
    "                label_field = LabelField(label)\n",
    "\n",
    "                fields = {\"tokens\": text_field, \"label\": label_field}\n",
    "                yield Instance(fields)\n",
    "\n",
    "    def text_to_instance(self, text: str, label: str = None) -> Instance:\n",
    "        tokens = self.tokenizer.tokenize(text)\n",
    "        text_field = TextField(tokens, self.token_indexers)\n",
    "        fields = {'tokens': text_field}\n",
    "        if label:\n",
    "            fields['label'] = LabelField(label)\n",
    "        return Instance(fields)\n",
    "\n",
    "# Tokenizer\n",
    "from allennlp.data.tokenizers import WhitespaceTokenizer\n",
    "tokenizer = WhitespaceTokenizer()\n",
    "\n",
    "# Indexer\n",
    "from allennlp.data.token_indexers import SingleIdTokenIndexer\n",
    "token_indexers = {\"tokens\": SingleIdTokenIndexer()}\n",
    "\n",
    "# Create DatasetReader\n",
    "dataset_reader = ClassificationTsvReader(\n",
    "    tokenizer=tokenizer,\n",
    "    token_indexers=token_indexers)\n",
    "\n",
    "# Load model vocab\n",
    "\n",
    "model_dir = '../spam-classifier/simple-classifier-spam/'\n",
    "\n",
    "from allennlp.data.vocabulary import Vocabulary\n",
    "vocab = Vocabulary.from_files(model_dir + \"vocabulary\")\n",
    "vocab_size = vocab.get_vocab_size(\"tokens\")\n",
    "\n",
    "# Define model class\n",
    "\n",
    "# Token embedder\n",
    "from allennlp.modules.token_embedders import Embedding\n",
    "token_embedder=Embedding(embedding_dim=10, num_embeddings=vocab_size)\n",
    "\n",
    "# Text-field embedder\n",
    "from allennlp.modules.text_field_embedders import BasicTextFieldEmbedder\n",
    "embedder = BasicTextFieldEmbedder({\"tokens\": token_embedder})\n",
    "\n",
    "# Encoder\n",
    "from allennlp.modules.seq2vec_encoders import BagOfEmbeddingsEncoder\n",
    "encoder = BagOfEmbeddingsEncoder(embedding_dim=10)\n",
    "\n",
    "# Model\n",
    "from allennlp.models import BasicClassifier\n",
    "model=BasicClassifier(\n",
    "    vocab=vocab,\n",
    "    text_field_embedder=embedder,\n",
    "    seq2vec_encoder=encoder,\n",
    "    namespace=\"tokens\",\n",
    "    label_namespace=\"labels\"\n",
    "    )\n",
    "\n",
    "# Load model weights\n",
    "import torch\n",
    "with open(model_dir + \"model.th\", 'rb') as f:\n",
    "    model.load_state_dict(torch.load(f))\n",
    "    \n",
    "# Compile predictor\n",
    "\n",
    "# Predictor\n",
    "from allennlp.predictors.text_classifier import TextClassifierPredictor\n",
    "predictor = TextClassifierPredictor(model=model, dataset_reader=dataset_reader)\n",
    "\n",
    "# Prepare user interface\n",
    "import ipywidgets as widgets\n",
    "\n",
    "input = widgets.Textarea(\n",
    "    placeholder='Type something',\n",
    "    disabled=False\n",
    ");\n",
    "def f(text):\n",
    "    return predictor.predict(text)['label']\n",
    "\n",
    "from ipywidgets import interact"
   ]
  },
  {
   "cell_type": "code",
   "execution_count": 7,
   "metadata": {},
   "outputs": [
    {
     "data": {
      "application/vnd.jupyter.widget-view+json": {
       "model_id": "fddf5320ca0e4a3989a77f9fb41defab",
       "version_major": 2,
       "version_minor": 0
      },
      "text/plain": [
       "interactive(children=(Textarea(value='', description='text', placeholder='Type something'), Output()), _dom_cl…"
      ]
     },
     "metadata": {},
     "output_type": "display_data"
    }
   ],
   "source": [
    "interact(f, text=input);"
   ]
  }
 ],
 "metadata": {
  "kernelspec": {
   "display_name": "Python 3",
   "language": "python",
   "name": "python3"
  },
  "language_info": {
   "codemirror_mode": {
    "name": "ipython",
    "version": 3
   },
   "file_extension": ".py",
   "mimetype": "text/x-python",
   "name": "python",
   "nbconvert_exporter": "python",
   "pygments_lexer": "ipython3",
   "version": "3.7.6"
  }
 },
 "nbformat": 4,
 "nbformat_minor": 4
}
